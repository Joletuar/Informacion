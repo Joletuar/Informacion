{
 "cells": [
  {
   "cell_type": "markdown",
   "metadata": {},
   "source": [
    "### Vamos a simular una Tragamonedas usando Programación Orientada a Objetos"
   ]
  },
  {
   "cell_type": "code",
   "execution_count": 66,
   "metadata": {},
   "outputs": [],
   "source": [
    "from random import randint"
   ]
  },
  {
   "cell_type": "code",
   "execution_count": 67,
   "metadata": {},
   "outputs": [],
   "source": [
    "# Creamos la clase\n",
    "\n",
    "class Tragamonedas():\n",
    "    \n",
    "    # Método constructor\n",
    "    \n",
    "    def __init__(self, id, premio):\n",
    "        self.id = id\n",
    "        self.premio = premio\n",
    "        self.monedas = 0\n",
    "        self.jackpots = 0\n",
    "    \n",
    "    # Definimos un método\n",
    "    \n",
    "    def jugar(self):\n",
    "        self.monedas += 1\n",
    "        numeros = randint(0, 10), randint(0, 10), randint(0, 10)\n",
    "        mensaje = \"\"\n",
    "        if (numeros[0] == numeros[1] == numeros[2]):\n",
    "            mensaje = f\"Felicitaciones haz ganado!!! Tu premio es: {self.premio}\"\n",
    "            self.jackpots += 1\n",
    "        else:\n",
    "            mensaje = \"Mejor suerte para la próxima vez\"\n",
    "        \n",
    "        return numeros, mensaje\n",
    "    \n",
    "    # Método str\n",
    "    \n",
    "    def __str__(self):\n",
    "        return f\"ID: {self.id} Premio: {self.premio}\"\n",
    "    \n",
    "    # Método eq\n",
    "    \n",
    "    def __eq__(self, otro):\n",
    "        return self.monedas == otro.monedas\n",
    "    \n",
    "    "
   ]
  },
  {
   "cell_type": "code",
   "execution_count": 68,
   "metadata": {},
   "outputs": [],
   "source": [
    "# Creamos una instancia de la clase creada\n",
    "\n",
    "tragamonedas_a = Tragamonedas(1, \"Carro\")\n",
    "tragamonedas_b = Tragamonedas(2, \"Moto\")"
   ]
  },
  {
   "cell_type": "code",
   "execution_count": 69,
   "metadata": {},
   "outputs": [
    {
     "name": "stdout",
     "output_type": "stream",
     "text": [
      "1 0\n"
     ]
    }
   ],
   "source": [
    "# Accedemos a los atributos de la instancia\n",
    "\n",
    "id = tragamonedas_a.id\n",
    "jackpots = tragamonedas_a.jackpots\n",
    "\n",
    "print(id , jackpots)"
   ]
  },
  {
   "cell_type": "code",
   "execution_count": 70,
   "metadata": {},
   "outputs": [
    {
     "data": {
      "text/plain": [
       "((6, 8, 4), 'Mejor suerte para la próxima vez')"
      ]
     },
     "execution_count": 70,
     "metadata": {},
     "output_type": "execute_result"
    }
   ],
   "source": [
    "# Utilizamos un método de la instancia\n",
    "\n",
    "tragamonedas_a.jugar()"
   ]
  },
  {
   "cell_type": "code",
   "execution_count": 71,
   "metadata": {},
   "outputs": [
    {
     "name": "stdout",
     "output_type": "stream",
     "text": [
      "((9, 7, 3), 'Mejor suerte para la próxima vez')\n",
      "((0, 1, 9), 'Mejor suerte para la próxima vez')\n",
      "((5, 9, 10), 'Mejor suerte para la próxima vez')\n",
      "((2, 2, 0), 'Mejor suerte para la próxima vez')\n",
      "((9, 3, 4), 'Mejor suerte para la próxima vez')\n",
      "((10, 2, 4), 'Mejor suerte para la próxima vez')\n",
      "((7, 6, 0), 'Mejor suerte para la próxima vez')\n",
      "((6, 7, 9), 'Mejor suerte para la próxima vez')\n",
      "((3, 3, 6), 'Mejor suerte para la próxima vez')\n",
      "((0, 2, 5), 'Mejor suerte para la próxima vez')\n",
      "((7, 4, 7), 'Mejor suerte para la próxima vez')\n",
      "((5, 0, 3), 'Mejor suerte para la próxima vez')\n",
      "((3, 9, 9), 'Mejor suerte para la próxima vez')\n",
      "((4, 2, 3), 'Mejor suerte para la próxima vez')\n",
      "((0, 10, 9), 'Mejor suerte para la próxima vez')\n",
      "((2, 6, 6), 'Mejor suerte para la próxima vez')\n",
      "((4, 9, 2), 'Mejor suerte para la próxima vez')\n",
      "((9, 3, 0), 'Mejor suerte para la próxima vez')\n",
      "((9, 9, 7), 'Mejor suerte para la próxima vez')\n",
      "((6, 6, 1), 'Mejor suerte para la próxima vez')\n",
      "((10, 1, 10), 'Mejor suerte para la próxima vez')\n",
      "((5, 10, 4), 'Mejor suerte para la próxima vez')\n",
      "((0, 3, 10), 'Mejor suerte para la próxima vez')\n",
      "((8, 4, 4), 'Mejor suerte para la próxima vez')\n",
      "((3, 6, 3), 'Mejor suerte para la próxima vez')\n",
      "((7, 4, 8), 'Mejor suerte para la próxima vez')\n",
      "((2, 6, 9), 'Mejor suerte para la próxima vez')\n",
      "((8, 2, 3), 'Mejor suerte para la próxima vez')\n",
      "((4, 3, 2), 'Mejor suerte para la próxima vez')\n",
      "((7, 9, 1), 'Mejor suerte para la próxima vez')\n",
      "((8, 4, 10), 'Mejor suerte para la próxima vez')\n",
      "((6, 6, 3), 'Mejor suerte para la próxima vez')\n",
      "((7, 9, 2), 'Mejor suerte para la próxima vez')\n",
      "((7, 3, 2), 'Mejor suerte para la próxima vez')\n",
      "((0, 7, 10), 'Mejor suerte para la próxima vez')\n",
      "((10, 6, 7), 'Mejor suerte para la próxima vez')\n",
      "((6, 7, 5), 'Mejor suerte para la próxima vez')\n",
      "((2, 10, 7), 'Mejor suerte para la próxima vez')\n",
      "((10, 7, 10), 'Mejor suerte para la próxima vez')\n",
      "((2, 3, 5), 'Mejor suerte para la próxima vez')\n",
      "((1, 8, 5), 'Mejor suerte para la próxima vez')\n",
      "((0, 7, 1), 'Mejor suerte para la próxima vez')\n",
      "((2, 5, 5), 'Mejor suerte para la próxima vez')\n",
      "((6, 5, 8), 'Mejor suerte para la próxima vez')\n",
      "((10, 9, 2), 'Mejor suerte para la próxima vez')\n",
      "((4, 9, 8), 'Mejor suerte para la próxima vez')\n",
      "((10, 8, 9), 'Mejor suerte para la próxima vez')\n",
      "((0, 10, 8), 'Mejor suerte para la próxima vez')\n",
      "((5, 4, 9), 'Mejor suerte para la próxima vez')\n",
      "((0, 0, 5), 'Mejor suerte para la próxima vez')\n",
      "((9, 10, 2), 'Mejor suerte para la próxima vez')\n",
      "((0, 10, 1), 'Mejor suerte para la próxima vez')\n",
      "((0, 3, 10), 'Mejor suerte para la próxima vez')\n",
      "((2, 5, 5), 'Mejor suerte para la próxima vez')\n",
      "((9, 10, 0), 'Mejor suerte para la próxima vez')\n",
      "((5, 9, 3), 'Mejor suerte para la próxima vez')\n",
      "((0, 8, 3), 'Mejor suerte para la próxima vez')\n",
      "((1, 2, 4), 'Mejor suerte para la próxima vez')\n",
      "((4, 9, 0), 'Mejor suerte para la próxima vez')\n",
      "((9, 5, 6), 'Mejor suerte para la próxima vez')\n"
     ]
    }
   ],
   "source": [
    "for i in range(30):\n",
    "    print(tragamonedas_a.jugar())\n",
    "    print(tragamonedas_b.jugar())"
   ]
  },
  {
   "cell_type": "code",
   "execution_count": 72,
   "metadata": {},
   "outputs": [
    {
     "name": "stdout",
     "output_type": "stream",
     "text": [
      "ID: 1 Premio: Carro\n"
     ]
    }
   ],
   "source": [
    "# Usando el método str para mostrar datos de la clase\n",
    "\n",
    "print(tragamonedas_a)"
   ]
  },
  {
   "cell_type": "code",
   "execution_count": 73,
   "metadata": {},
   "outputs": [
    {
     "data": {
      "text/plain": [
       "False"
      ]
     },
     "execution_count": 73,
     "metadata": {},
     "output_type": "execute_result"
    }
   ],
   "source": [
    "# Usando el método eq para realizar comparación\n",
    "\n",
    "tragamonedas_a == tragamonedas_b"
   ]
  }
 ],
 "metadata": {
  "interpreter": {
   "hash": "6982bc92be351e182e9b943e662d015000b9cb01fd66c4ec6cff8259f7be684a"
  },
  "kernelspec": {
   "display_name": "Python 3.9.0 ('Entorno_Python_100%': venv)",
   "language": "python",
   "name": "python3"
  },
  "language_info": {
   "codemirror_mode": {
    "name": "ipython",
    "version": 3
   },
   "file_extension": ".py",
   "mimetype": "text/x-python",
   "name": "python",
   "nbconvert_exporter": "python",
   "pygments_lexer": "ipython3",
   "version": "3.9.0"
  },
  "orig_nbformat": 4
 },
 "nbformat": 4,
 "nbformat_minor": 2
}
