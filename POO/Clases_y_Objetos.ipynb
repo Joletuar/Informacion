{
 "cells": [
  {
   "cell_type": "markdown",
   "metadata": {},
   "source": [
    "## CREACIÓN DE CLASES Y OBJETOS"
   ]
  },
  {
   "cell_type": "markdown",
   "metadata": {},
   "source": [
    "#### Clases normales"
   ]
  },
  {
   "cell_type": "code",
   "execution_count": 138,
   "metadata": {},
   "outputs": [],
   "source": [
    "# Definición de la clase\n",
    "\n",
    "class Persona():\n",
    "    \n",
    "    # Definimos su constructor\n",
    "    \n",
    "    def __init__(self, nombre, apellido, edad, sexo):\n",
    "        \n",
    "        # Las variables/atributos de instancia requiere el modificador \"self\" para ser accedidas y usados\n",
    "        # por la instancia y sus métodos\n",
    "        \n",
    "        self.nombre = nombre\n",
    "        self.apellido = apellido\n",
    "        self.edad = edad\n",
    "        self.sexo = sexo\n",
    "\n",
    "        self.imc = 0\n",
    "        \n",
    "        # Definimos un atributo privado\n",
    "        \n",
    "        self.__gender = \"\"\n",
    "        \n",
    "        self.presentacion()\n",
    "        \n",
    "    # Definimos un método\n",
    "    \n",
    "    def presentacion(self):\n",
    "        print( f'Hola!!! Me llamo {self.nombre} {self.apellido} y tengo {self.edad}')\n",
    "    \n",
    "    def calcularIMC(self, peso, altura) -> float:\n",
    "        self.imc = peso / (altura**2)\n",
    "    \n",
    "    # Modificamos/sobrecargamos un método\n",
    "    \n",
    "    # Cambiamos el comportamiento del método str()\n",
    "    \n",
    "    def __str__(self):\n",
    "        return f\"\"\"Esta es la clase 'Persona' y tiene los siguientes atributos: \n",
    "                    {self.nombre}, \n",
    "                    {self.apellido}, \n",
    "                    {self.edad},\n",
    "                    {self.sexo}\"\"\"\n",
    "    \n",
    "    # Los métodos getter y setter sirven para acceder a atributos privados\n",
    "    \n",
    "    # Definimos un método getter\n",
    "    \n",
    "    @property # Se utiliza este decorador para definir el método getter\n",
    "    def genero(self):\n",
    "        return self.__gender\n",
    "    \n",
    "    # Definimos un método setter\n",
    "    @genero.setter # Se utiliza este decorador para definir el método setter\n",
    "    def genero(self, valor):\n",
    "        self.__gender = valor\n",
    "    "
   ]
  },
  {
   "cell_type": "code",
   "execution_count": 139,
   "metadata": {},
   "outputs": [
    {
     "name": "stdout",
     "output_type": "stream",
     "text": [
      "Hola!!! Me llamo Johan Tuarez Vega y tengo 23\n"
     ]
    }
   ],
   "source": [
    "# Creación de una instancia de la clase definida\n",
    "\n",
    "persona_1 = Persona(\"Johan\", \"Tuarez Vega\", 23, \"M\")"
   ]
  },
  {
   "cell_type": "code",
   "execution_count": 140,
   "metadata": {},
   "outputs": [
    {
     "name": "stdout",
     "output_type": "stream",
     "text": [
      "Hola!!! Me llamo Johan Tuarez Vega y tengo 23\n"
     ]
    }
   ],
   "source": [
    "# Usando los métodos de la clase\n",
    "\n",
    "persona_1.presentacion()"
   ]
  },
  {
   "cell_type": "code",
   "execution_count": 141,
   "metadata": {},
   "outputs": [
    {
     "name": "stdout",
     "output_type": "stream",
     "text": [
      "0.0020519134092541295\n"
     ]
    }
   ],
   "source": [
    "persona_1.calcularIMC(60, 171)\n",
    "print(persona_1.imc)"
   ]
  },
  {
   "cell_type": "code",
   "execution_count": 142,
   "metadata": {},
   "outputs": [
    {
     "data": {
      "text/plain": [
       "'Hombre'"
      ]
     },
     "execution_count": 142,
     "metadata": {},
     "output_type": "execute_result"
    }
   ],
   "source": [
    "# Usando los métodos getters a setters\n",
    "\n",
    "# Setter\n",
    "\n",
    "persona_1.genero = \"Hombre\"\n",
    "\n",
    "# Getter\n",
    "\n",
    "persona_1.genero"
   ]
  },
  {
   "cell_type": "markdown",
   "metadata": {},
   "source": [
    "#### Conexto estático"
   ]
  },
  {
   "cell_type": "code",
   "execution_count": 143,
   "metadata": {},
   "outputs": [],
   "source": [
    "# Creación de la clase\n",
    "\n",
    "class Figuras():\n",
    "    \n",
    "    # Las variables/atributos de clase solo pueden ser accedidas por la clase, pero no por la instancias\n",
    "    \n",
    "    variable_de_clase = \"Esta es una variable de clase\"\n",
    "    \n",
    "    def __init__(self, tipo, color):\n",
    "        self.tipo = tipo\n",
    "        self.color = color\n",
    "    \n",
    "    # Las funciones/métodos de clase solo pueden ser accedidas por la clase, pero no por la instancias\n",
    "    \n",
    "    @staticmethod\n",
    "    def metodoEstatico():\n",
    "        print(\"Este es un método estático\")\n",
    "        \n",
    "    @staticmethod\n",
    "    def area(*args):\n",
    "        resultado = 0\n",
    "        for valor in args:\n",
    "            resultado += valor\n",
    "        return resultado\n",
    "    \n",
    "    @staticmethod\n",
    "    def crearPersona(nombre, apellido, edad, sexo):\n",
    "        persona = Persona(nombre, apellido, edad, sexo)\n",
    "        return persona\n",
    "    \n",
    "    # Los métodos de clase pueden acceder a las variables de clase\n",
    "    \n",
    "    @classmethod\n",
    "    def metodoClase(cls):\n",
    "        print(cls.variable_de_clase)\n",
    "    "
   ]
  },
  {
   "cell_type": "code",
   "execution_count": 144,
   "metadata": {},
   "outputs": [
    {
     "data": {
      "text/plain": [
       "'Esta es una variable de clase'"
      ]
     },
     "execution_count": 144,
     "metadata": {},
     "output_type": "execute_result"
    }
   ],
   "source": [
    "# Acedemos a los atributos estáticos de la clase\n",
    "# No se requiere una instancia de la clase\n",
    "\n",
    "Figuras.variable_de_clase"
   ]
  },
  {
   "cell_type": "code",
   "execution_count": 145,
   "metadata": {},
   "outputs": [
    {
     "name": "stdout",
     "output_type": "stream",
     "text": [
      "Este es un método estático\n"
     ]
    }
   ],
   "source": [
    "# Acedemos a los métodos estáticos de la clase\n",
    "# No se requiere una instancia de la clase\n",
    "\n",
    "Figuras.metodoEstatico()"
   ]
  },
  {
   "cell_type": "code",
   "execution_count": 146,
   "metadata": {},
   "outputs": [
    {
     "name": "stdout",
     "output_type": "stream",
     "text": [
      "75\n"
     ]
    }
   ],
   "source": [
    "print(Figuras.area(54,4,6,6,5))"
   ]
  },
  {
   "cell_type": "code",
   "execution_count": 147,
   "metadata": {},
   "outputs": [
    {
     "name": "stdout",
     "output_type": "stream",
     "text": [
      "Hola!!! Me llamo Leonardo Vega y tengo 32\n",
      "Esta es la clase 'Persona' y tiene los siguientes atributos: \n",
      "                    Leonardo, \n",
      "                    Vega, \n",
      "                    32,\n",
      "                    F\n"
     ]
    }
   ],
   "source": [
    "persona_2 = Figuras.crearPersona(\"Leonardo\", \"Vega\", 32, \"F\")\n",
    "print(persona_2)"
   ]
  },
  {
   "cell_type": "code",
   "execution_count": 150,
   "metadata": {},
   "outputs": [
    {
     "name": "stdout",
     "output_type": "stream",
     "text": [
      "Esta es una variable de clase\n"
     ]
    }
   ],
   "source": [
    "figura = Figuras(color=\"red\", tipo=\"triangulpo\")\n",
    "figura.metodoClase()"
   ]
  }
 ],
 "metadata": {
  "interpreter": {
   "hash": "6982bc92be351e182e9b943e662d015000b9cb01fd66c4ec6cff8259f7be684a"
  },
  "kernelspec": {
   "display_name": "Python 3.9.0 ('Entorno_Python_100%': venv)",
   "language": "python",
   "name": "python3"
  },
  "language_info": {
   "codemirror_mode": {
    "name": "ipython",
    "version": 3
   },
   "file_extension": ".py",
   "mimetype": "text/x-python",
   "name": "python",
   "nbconvert_exporter": "python",
   "pygments_lexer": "ipython3",
   "version": "3.9.0"
  },
  "orig_nbformat": 4
 },
 "nbformat": 4,
 "nbformat_minor": 2
}
